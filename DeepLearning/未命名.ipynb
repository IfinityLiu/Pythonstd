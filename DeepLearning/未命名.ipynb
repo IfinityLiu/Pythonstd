{
 "cells": [
  {
   "cell_type": "markdown",
   "metadata": {
    "ExecuteTime": {
     "end_time": "2019-05-31T02:15:20.193460Z",
     "start_time": "2019-05-31T02:15:19.755885Z"
    }
   },
   "source": [
    "# 目的：检测到人脸框"
   ]
  },
  {
   "cell_type": "markdown",
   "metadata": {},
   "source": [
    "## 数据\n",
    "数据获取:  \n",
    "    1.face detection benchmark(搜索引擎搜索)Benchmark是一个行业的基准（数据库，论文，源码，结果）  \n",
    "    2.优秀论文(百度、google)，通常实验阶段都会介绍它所使用的数据，下载公开的数据集。申请数据集的时候，最好使用学校的邮箱  \n",
    "    3.论坛或者交流社区，thinkface等  \n",
    "    4.数据的规模 越大越好 2W多个"
   ]
  },
  {
   "cell_type": "markdown",
   "metadata": {},
   "source": [
    "二分类数据，第一类人脸，第二类非人脸  \n",
    "人脸数据：路径/xxx.jpg 60,80,280,320(随意写的方式)  \n",
    "非人脸数据：只要不是人脸都是可以的  "
   ]
  },
  {
   "cell_type": "markdown",
   "metadata": {},
   "source": [
    "对于正样本：要进行裁剪操作，根据标注的坐标，把人脸裁剪出来。可以使用opencv这个工具，来完成制作人脸数据，要检查一下，看一看数据有没有问题。  \n",
    "对于负样本：进行一个随机的裁剪，IOU这个比例（重叠的比例）在原始的数据当中，IOU<0.3认为是一个负样本，最好是拿么有人脸数据的当做负样本。\n",
    "\n",
    "制作LMDB数据源（其实它就是caffe支持的非常常用的分类数据源）  \n",
    "\n",
    "写两个txt文档文件\n",
    "Train.txt\n",
    "0/xxx.jpg 0\n",
    "1/xxx.jpt 1\n",
    "Val.txt\n",
    "xxx.jpg 0\n",
    "xxx.jpg 1\n"
   ]
  }
 ],
 "metadata": {
  "kernelspec": {
   "display_name": "Python 3",
   "language": "python",
   "name": "python3"
  },
  "toc": {
   "base_numbering": 1,
   "nav_menu": {},
   "number_sections": true,
   "sideBar": true,
   "skip_h1_title": false,
   "title_cell": "Table of Contents",
   "title_sidebar": "Contents",
   "toc_cell": false,
   "toc_position": {},
   "toc_section_display": true,
   "toc_window_display": true
  },
  "varInspector": {
   "cols": {
    "lenName": 16,
    "lenType": 16,
    "lenVar": 40
   },
   "kernels_config": {
    "python": {
     "delete_cmd_postfix": "",
     "delete_cmd_prefix": "del ",
     "library": "var_list.py",
     "varRefreshCmd": "print(var_dic_list())"
    },
    "r": {
     "delete_cmd_postfix": ") ",
     "delete_cmd_prefix": "rm(",
     "library": "var_list.r",
     "varRefreshCmd": "cat(var_dic_list()) "
    }
   },
   "types_to_exclude": [
    "module",
    "function",
    "builtin_function_or_method",
    "instance",
    "_Feature"
   ],
   "window_display": false
  }
 },
 "nbformat": 4,
 "nbformat_minor": 2
}
